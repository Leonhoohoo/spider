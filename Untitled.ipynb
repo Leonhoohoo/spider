{
 "cells": [
  {
   "cell_type": "code",
   "execution_count": 143,
   "metadata": {},
   "outputs": [
    {
     "name": "stdout",
     "output_type": "stream",
     "text": [
      "[<Element 'a' href='https://caroleasylife.blogspot.com/2017/07/blog-post_12.html'>, <Element 'a' href='https://caroleasylife.blogspot.com/2017/12/blog-post_16.html'>, <Element 'a' href='https://caroleasylife.blogspot.com/2018/03/blog-post_22.html'>, <Element 'a' href='https://caroleasylife.blogspot.com/2018/06/blog-post_5.html'>, <Element 'a' href='https://caroleasylife.blogspot.com/2018/06/blog-post_27.html'>]\n"
     ]
    }
   ],
   "source": [
    "import requests \n",
    "import time\n",
    "from bs4 import BeautifulSoup\n",
    "import re\n",
    "from requests_html import HTMLSession \n",
    "\n",
    "# url = requests.get('https://caroleasylife.blogspot.com/search/label/..西點%3A%3A蛋糕%28戚風海綿%29')\n",
    "# time.sleep(0.5)\n",
    "# soup = BeautifulSoup(html.text)\n",
    "# alla = soup.select(\"h3 > a\" )\n",
    "\n",
    "# # cake = re.compile(r'戚風蛋糕')\n",
    "# # right = cake.findall('alla')\n",
    "\n",
    "session = HTMLSession()\n",
    "r = session.get('https://caroleasylife.blogspot.com/search/label/..西點%3A%3A蛋糕%28戚風海綿%29')\n",
    "article_entries = r.html.find('a', containing='戚風蛋糕')\n",
    "\n",
    "print(article_entries)\n"
   ]
  },
  {
   "cell_type": "code",
   "execution_count": null,
   "metadata": {},
   "outputs": [],
   "source": []
  }
 ],
 "metadata": {
  "kernelspec": {
   "display_name": "Python 3",
   "language": "python",
   "name": "python3"
  },
  "language_info": {
   "codemirror_mode": {
    "name": "ipython",
    "version": 3
   },
   "file_extension": ".py",
   "mimetype": "text/x-python",
   "name": "python",
   "nbconvert_exporter": "python",
   "pygments_lexer": "ipython3",
   "version": "3.7.0"
  }
 },
 "nbformat": 4,
 "nbformat_minor": 2
}
