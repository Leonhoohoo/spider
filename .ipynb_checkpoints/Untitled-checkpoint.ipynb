{
 "cells": [
  {
   "cell_type": "code",
   "execution_count": 15,
   "metadata": {},
   "outputs": [
    {
     "ename": "AttributeError",
     "evalue": "'list' object has no attribute 'html'",
     "output_type": "error",
     "traceback": [
      "\u001b[0;31m---------------------------------------------------------------------------\u001b[0m",
      "\u001b[0;31mAttributeError\u001b[0m                            Traceback (most recent call last)",
      "\u001b[0;32m<ipython-input-15-bfe7602a4b7c>\u001b[0m in \u001b[0;36m<module>\u001b[0;34m()\u001b[0m\n\u001b[1;32m     17\u001b[0m \u001b[0marticle_entries\u001b[0m \u001b[0;34m=\u001b[0m \u001b[0mr\u001b[0m\u001b[0;34m.\u001b[0m\u001b[0mhtml\u001b[0m\u001b[0;34m.\u001b[0m\u001b[0mfind\u001b[0m\u001b[0;34m(\u001b[0m\u001b[0;34m'a'\u001b[0m\u001b[0;34m,\u001b[0m \u001b[0mcontaining\u001b[0m\u001b[0;34m=\u001b[0m\u001b[0;34m'戚風蛋糕'\u001b[0m\u001b[0;34m)\u001b[0m\u001b[0;34m\u001b[0m\u001b[0m\n\u001b[1;32m     18\u001b[0m \u001b[0;34m\u001b[0m\u001b[0m\n\u001b[0;32m---> 19\u001b[0;31m \u001b[0mg\u001b[0m\u001b[0;34m.\u001b[0m\u001b[0mhtml\u001b[0m\u001b[0;34m.\u001b[0m\u001b[0mabsolute_links\u001b[0m\u001b[0;34m\u001b[0m\u001b[0m\n\u001b[0m\u001b[1;32m     20\u001b[0m \u001b[0;34m\u001b[0m\u001b[0m\n\u001b[1;32m     21\u001b[0m \u001b[0;34m\u001b[0m\u001b[0m\n",
      "\u001b[0;31mAttributeError\u001b[0m: 'list' object has no attribute 'html'"
     ]
    }
   ],
   "source": [
    "import requests \n",
    "import time\n",
    "from bs4 import BeautifulSoup\n",
    "import re\n",
    "from requests_html import HTMLSession \n",
    "\n",
    "# url = requests.get('https://caroleasylife.blogspot.com/search/label/..西點%3A%3A蛋糕%28戚風海綿%29')\n",
    "# time.sleep(0.5)\n",
    "# soup = BeautifulSoup(html.text)\n",
    "# alla = soup.select(\"h3 > a\" )\n",
    "\n",
    "# # cake = re.compile(r'戚風蛋糕')\n",
    "# # right = cake.findall('alla')\n",
    "\n",
    "session = HTMLSession()\n",
    "r = session.get('https://caroleasylife.blogspot.com/search/label/..西點%3A%3A蛋糕%28戚風海綿%29')\n",
    "article_entries = r.html.find('a', containing='戚風蛋糕')\n",
    "\n",
    "g.html.absolute_links\n",
    "\n",
    "\n",
    "# print(sub_url)\n"
   ]
  },
  {
   "cell_type": "code",
   "execution_count": null,
   "metadata": {},
   "outputs": [],
   "source": []
  }
 ],
 "metadata": {
  "kernelspec": {
   "display_name": "Python 3",
   "language": "python",
   "name": "python3"
  },
  "language_info": {
   "codemirror_mode": {
    "name": "ipython",
    "version": 3
   },
   "file_extension": ".py",
   "mimetype": "text/x-python",
   "name": "python",
   "nbconvert_exporter": "python",
   "pygments_lexer": "ipython3",
   "version": "3.6.5"
  }
 },
 "nbformat": 4,
 "nbformat_minor": 2
}
